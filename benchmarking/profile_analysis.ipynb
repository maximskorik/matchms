{
 "cells": [
  {
   "cell_type": "code",
   "execution_count": 1,
   "outputs": [],
   "source": [
    "# read profile data and convert to csv\n",
    "\n",
    "from pathlib import Path\n",
    "import os\n",
    "from utils import prof_to_csv\n",
    "\n",
    "profile_folder = \"profiles\"\n",
    "profile_names = os.listdir(profile_folder)\n",
    "raw_profiles_path = [os.path.join(profile_folder, name) for name in profile_names]\n",
    "csv_profiles_path = [os.path.join(\"profiles_csv\", f\"{Path(name).stem}.csv\") for name in profile_names]\n",
    "\n",
    "for raw_path, csv_path in zip(raw_profiles_path, csv_profiles_path):\n",
    "    profile = prof_to_csv(raw_path)\n",
    "    with open(csv_path, \"w\") as f:\n",
    "        f.write(profile)"
   ],
   "metadata": {
    "collapsed": false,
    "pycharm": {
     "name": "#%%\n"
    }
   }
  },
  {
   "cell_type": "code",
   "execution_count": 2,
   "outputs": [
    {
     "data": {
      "text/plain": "['NIST_EI_MS_.msp_CRITICAL_False.prof',\n 'GNPS-LIBRARY_.msp_WARNING_False.prof',\n 'GNPS-LIBRARY_.msp_WARNING_True.prof',\n 'NIST_EI_MS_.mgf_CRITICAL_False.prof',\n 'NIST_EI_MS_.mgf_WARNING_False.prof',\n 'GNPS-LIBRARY_.mgf_INFO_False.prof',\n 'GNPS-LIBRARY_.msp_DEBUG_True.prof',\n 'GNPS-LIBRARY_.mgf_CRITICAL_True.prof',\n 'GNPS-LIBRARY_.mgf_ERROR_True.prof',\n 'NIST_EI_MS_.mgf_INFO_True.prof',\n 'NIST_EI_MS_.mgf_INFO_False.prof',\n 'NIST_EI_MS_.msp_DEBUG_True.prof',\n 'GNPS-LIBRARY_.mgf_INFO_True.prof',\n 'NIST_EI_MS_.mgf_ERROR_True.prof',\n 'NIST_EI_MS_.msp_CRITICAL_True.prof',\n 'GNPS-LIBRARY_.msp_ERROR_False.prof',\n 'GNPS-LIBRARY_.mgf_ERROR_False.prof',\n 'GNPS-LIBRARY_.mgf_CRITICAL_False.prof',\n 'GNPS-LIBRARY_.msp_CRITICAL_False.prof',\n 'NIST_EI_MS_.msp_WARNING_True.prof',\n 'NIST_EI_MS_.msp_ERROR_False.prof',\n 'NIST_EI_MS_.mgf_ERROR_False.prof',\n 'GNPS-LIBRARY_.msp_ERROR_True.prof',\n 'GNPS-LIBRARY_.msp_INFO_False.prof',\n 'GNPS-LIBRARY_.mgf_DEBUG_True.prof',\n 'NIST_EI_MS_.msp_ERROR_True.prof',\n 'NIST_EI_MS_.mgf_WARNING_True.prof',\n 'NIST_EI_MS_.msp_INFO_False.prof',\n 'NIST_EI_MS_.mgf_DEBUG_True.prof',\n 'GNPS-LIBRARY_.msp_DEBUG_False.prof',\n 'GNPS-LIBRARY_.mgf_DEBUG_False.prof',\n 'GNPS-LIBRARY_.mgf_WARNING_False.prof',\n 'GNPS-LIBRARY_.msp_INFO_True.prof',\n 'NIST_EI_MS_.msp_INFO_True.prof',\n 'NIST_EI_MS_.msp_WARNING_False.prof',\n 'NIST_EI_MS_.msp_DEBUG_False.prof',\n 'NIST_EI_MS_.mgf_DEBUG_False.prof',\n 'GNPS-LIBRARY_.msp_CRITICAL_True.prof',\n 'NIST_EI_MS_.mgf_CRITICAL_True.prof',\n 'GNPS-LIBRARY_.mgf_WARNING_True.prof']"
     },
     "execution_count": 2,
     "metadata": {},
     "output_type": "execute_result"
    }
   ],
   "source": [
    "profile_names"
   ],
   "metadata": {
    "collapsed": false,
    "pycharm": {
     "name": "#%%\n"
    }
   }
  },
  {
   "cell_type": "code",
   "execution_count": 3,
   "outputs": [
    {
     "data": {
      "text/plain": "      ncalls  tottime  percall  cumtime  percall.1  \\\n88    350644   48.041      0.0  146.419        0.0   \n89  40044689   16.822      0.0   24.056        0.0   \n92  40044689   11.377      0.0   34.316        0.0   \n36  60959981   10.936      0.0   15.414        0.0   \n91  40044689   10.333      0.0   12.808        0.0   \n83  13943528    8.809      0.0   24.544        0.0   \n35  40044689    8.229      0.0   22.939        0.0   \n90  40044689    7.468      0.0   10.945        0.0   \n12  83575260    7.010      0.0    7.010        0.0   \n18  62362690    4.621      0.0    4.738        0.0   \n\n                 filename:lineno(function)  \n88     load_from_msp.py:58(parse_msp_file)  \n89   load_from_msp.py:109(get_peak_values)  \n92  load_from_msp.py:124(get_peak_comment)  \n36                     re.py:289(_compile)  \n91   load_from_msp.py:117(get_peak_tuples)  \n83        PickyDict.py:152(_harmonize_key)  \n35                      re.py:233(findall)  \n90          load_from_msp.py:120(<lambda>)  \n12       {method 'split' of 'str' objects}  \n18   {built-in method builtins.isinstance}  ",
      "text/html": "<div>\n<style scoped>\n    .dataframe tbody tr th:only-of-type {\n        vertical-align: middle;\n    }\n\n    .dataframe tbody tr th {\n        vertical-align: top;\n    }\n\n    .dataframe thead th {\n        text-align: right;\n    }\n</style>\n<table border=\"1\" class=\"dataframe\">\n  <thead>\n    <tr style=\"text-align: right;\">\n      <th></th>\n      <th>ncalls</th>\n      <th>tottime</th>\n      <th>percall</th>\n      <th>cumtime</th>\n      <th>percall.1</th>\n      <th>filename:lineno(function)</th>\n    </tr>\n  </thead>\n  <tbody>\n    <tr>\n      <th>88</th>\n      <td>350644</td>\n      <td>48.041</td>\n      <td>0.0</td>\n      <td>146.419</td>\n      <td>0.0</td>\n      <td>load_from_msp.py:58(parse_msp_file)</td>\n    </tr>\n    <tr>\n      <th>89</th>\n      <td>40044689</td>\n      <td>16.822</td>\n      <td>0.0</td>\n      <td>24.056</td>\n      <td>0.0</td>\n      <td>load_from_msp.py:109(get_peak_values)</td>\n    </tr>\n    <tr>\n      <th>92</th>\n      <td>40044689</td>\n      <td>11.377</td>\n      <td>0.0</td>\n      <td>34.316</td>\n      <td>0.0</td>\n      <td>load_from_msp.py:124(get_peak_comment)</td>\n    </tr>\n    <tr>\n      <th>36</th>\n      <td>60959981</td>\n      <td>10.936</td>\n      <td>0.0</td>\n      <td>15.414</td>\n      <td>0.0</td>\n      <td>re.py:289(_compile)</td>\n    </tr>\n    <tr>\n      <th>91</th>\n      <td>40044689</td>\n      <td>10.333</td>\n      <td>0.0</td>\n      <td>12.808</td>\n      <td>0.0</td>\n      <td>load_from_msp.py:117(get_peak_tuples)</td>\n    </tr>\n    <tr>\n      <th>83</th>\n      <td>13943528</td>\n      <td>8.809</td>\n      <td>0.0</td>\n      <td>24.544</td>\n      <td>0.0</td>\n      <td>PickyDict.py:152(_harmonize_key)</td>\n    </tr>\n    <tr>\n      <th>35</th>\n      <td>40044689</td>\n      <td>8.229</td>\n      <td>0.0</td>\n      <td>22.939</td>\n      <td>0.0</td>\n      <td>re.py:233(findall)</td>\n    </tr>\n    <tr>\n      <th>90</th>\n      <td>40044689</td>\n      <td>7.468</td>\n      <td>0.0</td>\n      <td>10.945</td>\n      <td>0.0</td>\n      <td>load_from_msp.py:120(&lt;lambda&gt;)</td>\n    </tr>\n    <tr>\n      <th>12</th>\n      <td>83575260</td>\n      <td>7.010</td>\n      <td>0.0</td>\n      <td>7.010</td>\n      <td>0.0</td>\n      <td>{method 'split' of 'str' objects}</td>\n    </tr>\n    <tr>\n      <th>18</th>\n      <td>62362690</td>\n      <td>4.621</td>\n      <td>0.0</td>\n      <td>4.738</td>\n      <td>0.0</td>\n      <td>{built-in method builtins.isinstance}</td>\n    </tr>\n  </tbody>\n</table>\n</div>"
     },
     "execution_count": 3,
     "metadata": {},
     "output_type": "execute_result"
    }
   ],
   "source": [
    "# read sample profile\n",
    "\n",
    "import pandas as pd\n",
    "profile = pd.read_csv(os.path.join(\"profiles_csv\", f\"{Path(profile_names[0]).stem}.csv\"))\n",
    "profile.sort_values(by='tottime', ascending=False)\\\n",
    "    .head(10)"
   ],
   "metadata": {
    "collapsed": false,
    "pycharm": {
     "name": "#%%\n"
    }
   }
  },
  {
   "cell_type": "code",
   "execution_count": 4,
   "outputs": [],
   "source": [
    "from utils import Profile\n",
    "\n",
    "profiles = [Profile(os.path.join(\"profiles_csv\", f\"{Path(profile_names[0]).stem}.csv\")) for name in profile_names]"
   ],
   "metadata": {
    "collapsed": false,
    "pycharm": {
     "name": "#%%\n"
    }
   }
  },
  {
   "cell_type": "code",
   "execution_count": 5,
   "outputs": [
    {
     "data": {
      "text/plain": "[NIST_EI_MS_.msp_CRITICAL_False,\n NIST_EI_MS_.msp_CRITICAL_False,\n NIST_EI_MS_.msp_CRITICAL_False,\n NIST_EI_MS_.msp_CRITICAL_False,\n NIST_EI_MS_.msp_CRITICAL_False,\n NIST_EI_MS_.msp_CRITICAL_False,\n NIST_EI_MS_.msp_CRITICAL_False,\n NIST_EI_MS_.msp_CRITICAL_False,\n NIST_EI_MS_.msp_CRITICAL_False,\n NIST_EI_MS_.msp_CRITICAL_False,\n NIST_EI_MS_.msp_CRITICAL_False,\n NIST_EI_MS_.msp_CRITICAL_False,\n NIST_EI_MS_.msp_CRITICAL_False,\n NIST_EI_MS_.msp_CRITICAL_False,\n NIST_EI_MS_.msp_CRITICAL_False,\n NIST_EI_MS_.msp_CRITICAL_False,\n NIST_EI_MS_.msp_CRITICAL_False,\n NIST_EI_MS_.msp_CRITICAL_False,\n NIST_EI_MS_.msp_CRITICAL_False,\n NIST_EI_MS_.msp_CRITICAL_False,\n NIST_EI_MS_.msp_CRITICAL_False,\n NIST_EI_MS_.msp_CRITICAL_False,\n NIST_EI_MS_.msp_CRITICAL_False,\n NIST_EI_MS_.msp_CRITICAL_False,\n NIST_EI_MS_.msp_CRITICAL_False,\n NIST_EI_MS_.msp_CRITICAL_False,\n NIST_EI_MS_.msp_CRITICAL_False,\n NIST_EI_MS_.msp_CRITICAL_False,\n NIST_EI_MS_.msp_CRITICAL_False,\n NIST_EI_MS_.msp_CRITICAL_False,\n NIST_EI_MS_.msp_CRITICAL_False,\n NIST_EI_MS_.msp_CRITICAL_False,\n NIST_EI_MS_.msp_CRITICAL_False,\n NIST_EI_MS_.msp_CRITICAL_False,\n NIST_EI_MS_.msp_CRITICAL_False,\n NIST_EI_MS_.msp_CRITICAL_False,\n NIST_EI_MS_.msp_CRITICAL_False,\n NIST_EI_MS_.msp_CRITICAL_False,\n NIST_EI_MS_.msp_CRITICAL_False,\n NIST_EI_MS_.msp_CRITICAL_False]"
     },
     "execution_count": 5,
     "metadata": {},
     "output_type": "execute_result"
    }
   ],
   "source": [
    "profiles"
   ],
   "metadata": {
    "collapsed": false,
    "pycharm": {
     "name": "#%%\n"
    }
   }
  },
  {
   "cell_type": "code",
   "execution_count": null,
   "outputs": [],
   "source": [],
   "metadata": {
    "collapsed": false,
    "pycharm": {
     "name": "#%%\n"
    }
   }
  }
 ],
 "metadata": {
  "kernelspec": {
   "display_name": "Python 3",
   "language": "python",
   "name": "python3"
  },
  "language_info": {
   "codemirror_mode": {
    "name": "ipython",
    "version": 2
   },
   "file_extension": ".py",
   "mimetype": "text/x-python",
   "name": "python",
   "nbconvert_exporter": "python",
   "pygments_lexer": "ipython2",
   "version": "2.7.6"
  }
 },
 "nbformat": 4,
 "nbformat_minor": 0
}